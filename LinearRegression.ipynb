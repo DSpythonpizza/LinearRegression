{
 "cells": [
  {
   "cell_type": "code",
   "execution_count": null,
   "id": "fc0a7b24",
   "metadata": {},
   "outputs": [],
   "source": [
    "# Import libraries\n",
    "import pandas as pd \n",
    "import numpy as np\n",
    "import seaborn as sns\n",
    "import matplotlib.pyplot as plt\n",
    "%matplotlib inline"
   ]
  },
  {
   "cell_type": "code",
   "execution_count": null,
   "id": "287f93b3",
   "metadata": {},
   "outputs": [],
   "source": [
    "# Simple Linear Regression"
   ]
  },
  {
   "cell_type": "code",
   "execution_count": null,
   "id": "c50e51bb",
   "metadata": {},
   "outputs": [],
   "source": [
    "df = pd.read_csv(\"HousePrice.csv\")\n",
    "df"
   ]
  },
  {
   "cell_type": "code",
   "execution_count": null,
   "id": "b4b7fe87",
   "metadata": {},
   "outputs": [],
   "source": [
    "plt.xlabel(\"Area\")\n",
    "plt.ylabel(\"Price\")\n",
    "plt.scatter(df.Area,df.Price)"
   ]
  },
  {
   "cell_type": "code",
   "execution_count": null,
   "id": "6249f9dc",
   "metadata": {},
   "outputs": [],
   "source": [
    "#Import library for linear regression\n",
    "from sklearn import linear_model"
   ]
  },
  {
   "cell_type": "code",
   "execution_count": null,
   "id": "d3eaa548",
   "metadata": {},
   "outputs": [],
   "source": [
    "# Define the linear regression model\n",
    "reg = linear_model.LinearRegression()"
   ]
  },
  {
   "cell_type": "code",
   "execution_count": null,
   "id": "3a04235b",
   "metadata": {
    "scrolled": true
   },
   "outputs": [],
   "source": [
    "# Fit with the data\n",
    "model = reg.fit(df[['Area']],df.Price)"
   ]
  },
  {
   "cell_type": "code",
   "execution_count": null,
   "id": "b5cdf7a3",
   "metadata": {},
   "outputs": [],
   "source": [
    "# y=β1x1+β0 \n",
    "# House price = β1*Area + β0"
   ]
  },
  {
   "cell_type": "code",
   "execution_count": null,
   "id": "4e482579",
   "metadata": {},
   "outputs": [],
   "source": [
    "# coefficient β1\n",
    "model.coef_"
   ]
  },
  {
   "cell_type": "code",
   "execution_count": null,
   "id": "06e660b7",
   "metadata": {},
   "outputs": [],
   "source": [
    "# intercept β0\n",
    "model.intercept_"
   ]
  },
  {
   "cell_type": "code",
   "execution_count": null,
   "id": "656a714b",
   "metadata": {},
   "outputs": [],
   "source": [
    "# Predict the first row - Area : 1030\n",
    "428.73798554*1030 + 54562.06281367235"
   ]
  },
  {
   "cell_type": "code",
   "execution_count": null,
   "id": "55076184",
   "metadata": {},
   "outputs": [],
   "source": [
    "model.predict(df[['Area']])"
   ]
  },
  {
   "cell_type": "code",
   "execution_count": null,
   "id": "56ee4aca",
   "metadata": {},
   "outputs": [],
   "source": [
    "plt.xlabel(\"Area\")\n",
    "plt.ylabel(\"Price\")\n",
    "plt.scatter(df.Area,df.Price)\n",
    "plt.plot(df.Area, model.predict(df[['Area']]), color = 'red')"
   ]
  },
  {
   "cell_type": "code",
   "execution_count": null,
   "id": "192b6020",
   "metadata": {},
   "outputs": [],
   "source": []
  },
  {
   "cell_type": "code",
   "execution_count": null,
   "id": "bdc2219c",
   "metadata": {},
   "outputs": [],
   "source": [
    "# Multiple Linear Regression - Predict price of houses in Boston"
   ]
  },
  {
   "cell_type": "code",
   "execution_count": null,
   "id": "9dc3ebef",
   "metadata": {},
   "outputs": [],
   "source": [
    "# Load the Boston Housing Dataset from sklearn.datasets\n",
    "from sklearn.datasets import load_boston\n",
    "boston = load_boston()"
   ]
  },
  {
   "cell_type": "code",
   "execution_count": null,
   "id": "1d50a789",
   "metadata": {},
   "outputs": [],
   "source": [
    "print(boston)"
   ]
  },
  {
   "cell_type": "code",
   "execution_count": null,
   "id": "e5e0746a",
   "metadata": {},
   "outputs": [],
   "source": [
    "print(boston.keys())"
   ]
  },
  {
   "cell_type": "code",
   "execution_count": null,
   "id": "03787cad",
   "metadata": {
    "scrolled": false
   },
   "outputs": [],
   "source": [
    "print(boston.DESCR)"
   ]
  },
  {
   "cell_type": "code",
   "execution_count": null,
   "id": "0ef48360",
   "metadata": {},
   "outputs": [],
   "source": [
    "#Feature names\n",
    "print(boston.feature_names)"
   ]
  },
  {
   "cell_type": "code",
   "execution_count": null,
   "id": "a5bcc2c9",
   "metadata": {},
   "outputs": [],
   "source": [
    "# Transfrom the dataset into a data frame\n",
    "boston_df = pd.DataFrame(boston.data, columns = boston.feature_names)"
   ]
  },
  {
   "cell_type": "code",
   "execution_count": null,
   "id": "2d454da7",
   "metadata": {
    "scrolled": true
   },
   "outputs": [],
   "source": [
    "boston_df.head()"
   ]
  },
  {
   "cell_type": "code",
   "execution_count": null,
   "id": "0c891c5b",
   "metadata": {},
   "outputs": [],
   "source": [
    "boston_df['MEDV'] = boston.target"
   ]
  },
  {
   "cell_type": "code",
   "execution_count": null,
   "id": "9076cb73",
   "metadata": {},
   "outputs": [],
   "source": [
    "boston_df.head()"
   ]
  },
  {
   "cell_type": "code",
   "execution_count": null,
   "id": "db1a3ba2",
   "metadata": {
    "scrolled": true
   },
   "outputs": [],
   "source": [
    "#Get some statistics from the dataset, count, mean\n",
    "boston_df.describe()"
   ]
  },
  {
   "cell_type": "code",
   "execution_count": null,
   "id": "ca721eb5",
   "metadata": {},
   "outputs": [],
   "source": [
    "# Check the number of nulls\n",
    "boston_df.isnull().sum()"
   ]
  },
  {
   "cell_type": "code",
   "execution_count": null,
   "id": "7473f9a6",
   "metadata": {},
   "outputs": [],
   "source": [
    "boston_df.shape"
   ]
  },
  {
   "cell_type": "code",
   "execution_count": null,
   "id": "e63deab5",
   "metadata": {
    "scrolled": true
   },
   "outputs": [],
   "source": [
    "sns.set(rc={'figure.figsize':(11.7,8.27)})\n",
    "sns.displot(boston_df['MEDV'])"
   ]
  },
  {
   "cell_type": "code",
   "execution_count": null,
   "id": "34d2ad55",
   "metadata": {
    "scrolled": true
   },
   "outputs": [],
   "source": [
    "# Correlation Matrix\n",
    "correlation_matrix = boston_df.corr().round(2)\n",
    "sns.heatmap(data=correlation_matrix, annot = True)"
   ]
  },
  {
   "cell_type": "code",
   "execution_count": null,
   "id": "b5a4798d",
   "metadata": {},
   "outputs": [],
   "source": [
    "#The correlation coefficient ranges from -1 to 1. \n",
    "#If the value is close to 1, it means that there is a strong positive correlation between the two variables. \n",
    "#When it is close to -1, the variables have a strong negative correlation."
   ]
  },
  {
   "cell_type": "code",
   "execution_count": null,
   "id": "70efe0e5",
   "metadata": {},
   "outputs": [],
   "source": [
    "plt.xlabel(\"RM\")\n",
    "plt.ylabel(\"MEDV\")\n",
    "plt.scatter(boston_df['RM'],boston_df['MEDV'])"
   ]
  },
  {
   "cell_type": "code",
   "execution_count": null,
   "id": "1e889319",
   "metadata": {},
   "outputs": [],
   "source": [
    "plt.xlabel(\"LSTAT\")\n",
    "plt.ylabel(\"MEDV\")\n",
    "plt.scatter(boston_df['LSTAT'],boston_df['MEDV'])"
   ]
  },
  {
   "cell_type": "code",
   "execution_count": null,
   "id": "77de6b4e",
   "metadata": {},
   "outputs": [],
   "source": [
    "#Set independent and dependent variables\n",
    "X = pd.DataFrame(np.c_[boston_df['RM'],boston_df['LSTAT']],columns = ['RM','LSTAT'])\n",
    "Y = boston_df['MEDV']"
   ]
  },
  {
   "cell_type": "code",
   "execution_count": null,
   "id": "80b39e5b",
   "metadata": {},
   "outputs": [],
   "source": [
    "# Linear Regression Model\n",
    "reg = linear_model.LinearRegression()"
   ]
  },
  {
   "cell_type": "code",
   "execution_count": null,
   "id": "edcf2c0e",
   "metadata": {
    "scrolled": true
   },
   "outputs": [],
   "source": [
    "model = reg.fit(X, Y)"
   ]
  },
  {
   "cell_type": "code",
   "execution_count": null,
   "id": "e07c6fb3",
   "metadata": {},
   "outputs": [],
   "source": [
    "print(model.coef_)"
   ]
  },
  {
   "cell_type": "code",
   "execution_count": null,
   "id": "b52d8a85",
   "metadata": {
    "scrolled": true
   },
   "outputs": [],
   "source": [
    "print(model.intercept_)"
   ]
  },
  {
   "cell_type": "code",
   "execution_count": null,
   "id": "0dfdd31c",
   "metadata": {},
   "outputs": [],
   "source": [
    "# Multiple Linear Regression y = β1x1 + β2x2 +⋯+ βnxn\n",
    "# Predict_Price = β0 + β1*RM + β2*'LSTAT'"
   ]
  },
  {
   "cell_type": "code",
   "execution_count": null,
   "id": "a17af8ed",
   "metadata": {},
   "outputs": [],
   "source": [
    "# Predict_Price = -1.3582728118745102 + 5.09478798*RM -0.64235833*'LSTAT'"
   ]
  },
  {
   "cell_type": "code",
   "execution_count": null,
   "id": "f8bf4c3f",
   "metadata": {},
   "outputs": [],
   "source": [
    "# House price to predict\n",
    "rm = float(input(\"How many rooms? \\n\"))\n",
    "lstat = float(input(\"What is percentage of lower status of the population? \\n\"))\n",
    "\n",
    "print(\"We predict house price will be {0:.2f} thousand\".format(model.predict([[rm, lstat]])[0]))"
   ]
  },
  {
   "cell_type": "code",
   "execution_count": null,
   "id": "510491bb",
   "metadata": {},
   "outputs": [],
   "source": [
    "-1.3582728118745102 + 5.09478798*rm -0.64235833*lstat"
   ]
  },
  {
   "cell_type": "code",
   "execution_count": null,
   "id": "7a6ded52",
   "metadata": {},
   "outputs": [],
   "source": [
    "# Evaluate model by using it's R^2 score \n",
    "r2 = model.score(X, Y)\n",
    "r2"
   ]
  },
  {
   "cell_type": "code",
   "execution_count": null,
   "id": "8fc34de6",
   "metadata": {},
   "outputs": [],
   "source": []
  },
  {
   "cell_type": "code",
   "execution_count": null,
   "id": "189d6f06",
   "metadata": {},
   "outputs": [],
   "source": []
  }
 ],
 "metadata": {
  "kernelspec": {
   "display_name": "Python 3",
   "language": "python",
   "name": "python3"
  },
  "language_info": {
   "codemirror_mode": {
    "name": "ipython",
    "version": 3
   },
   "file_extension": ".py",
   "mimetype": "text/x-python",
   "name": "python",
   "nbconvert_exporter": "python",
   "pygments_lexer": "ipython3",
   "version": "3.8.8"
  }
 },
 "nbformat": 4,
 "nbformat_minor": 5
}
